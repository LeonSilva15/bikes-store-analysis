{
  "nbformat": 4,
  "nbformat_minor": 0,
  "metadata": {
    "colab": {
      "provenance": [],
      "authorship_tag": "ABX9TyOmUPhePnqLUS7LpsTeuiGm",
      "include_colab_link": true
    },
    "kernelspec": {
      "name": "python3",
      "display_name": "Python 3"
    },
    "language_info": {
      "name": "python"
    }
  },
  "cells": [
    {
      "cell_type": "markdown",
      "metadata": {
        "id": "view-in-github",
        "colab_type": "text"
      },
      "source": [
        "<a href=\"https://colab.research.google.com/github/LeonSilva15/data-analysis/blob/main/Bikes_store_exercise.ipynb\" target=\"_parent\"><img src=\"https://colab.research.google.com/assets/colab-badge.svg\" alt=\"Open In Colab\"/></a>"
      ]
    },
    {
      "cell_type": "markdown",
      "source": [
        "# Bikes store exercise"
      ],
      "metadata": {
        "id": "bT7HUEFWqog5"
      }
    },
    {
      "cell_type": "code",
      "source": [
        "import numpy as np\n",
        "import pandas as pd\n",
        "import matplotlib.pyplot as plt\n",
        "\n",
        "%matplotlib inline"
      ],
      "metadata": {
        "id": "3Qqs2PaYqrbm"
      },
      "execution_count": 1,
      "outputs": []
    },
    {
      "cell_type": "markdown",
      "source": [
        "# Load the data"
      ],
      "metadata": {
        "id": "IljJncmLuLmc"
      }
    },
    {
      "cell_type": "markdown",
      "source": [
        "## What's the mean of Customers_Age?"
      ],
      "metadata": {
        "id": "Cx_ZWcn5uOZ7"
      }
    },
    {
      "cell_type": "markdown",
      "source": [
        "Show a density (KDE) and a box plot with the Customer_Age data:"
      ],
      "metadata": {
        "id": "TZnBW9OZurtP"
      }
    },
    {
      "cell_type": "markdown",
      "source": [
        "## What's the mean of Order_Quantity?"
      ],
      "metadata": {
        "id": "sWJ2vXBguRpY"
      }
    },
    {
      "cell_type": "markdown",
      "source": [
        "## How many sales per year do we have?"
      ],
      "metadata": {
        "id": "Bhk0GCxbuUJC"
      }
    },
    {
      "cell_type": "markdown",
      "source": [
        "Show a pie plot with the previous data:"
      ],
      "metadata": {
        "id": "yb_NHDKaudlp"
      }
    },
    {
      "cell_type": "markdown",
      "source": [
        "## How many sales per month do we have?"
      ],
      "metadata": {
        "id": "aaKrwXDuuWnW"
      }
    },
    {
      "cell_type": "markdown",
      "source": [
        "Show a bar plot with the previous data:"
      ],
      "metadata": {
        "id": "6C3p3GsWuZYY"
      }
    },
    {
      "cell_type": "markdown",
      "source": [
        "## Which country has the most sales quantity of sales?"
      ],
      "metadata": {
        "id": "ri7Vd9xiumii"
      }
    },
    {
      "cell_type": "markdown",
      "source": [
        "Show a bar plot of the sales per country:"
      ],
      "metadata": {
        "id": "CKeVzwftuyPj"
      }
    },
    {
      "cell_type": "markdown",
      "source": [
        "## Create a list of every product sold"
      ],
      "metadata": {
        "id": "LbYGVnyou28e"
      }
    },
    {
      "cell_type": "markdown",
      "source": [
        "Create a bar plot showing the 10 most sold products (best sellers):"
      ],
      "metadata": {
        "id": "I6FjeKvDu5mG"
      }
    },
    {
      "cell_type": "markdown",
      "source": [
        "## Can you see any relationship between Unit_Cost and Unit_Price?"
      ],
      "metadata": {
        "id": "2FgMx17Nu7qp"
      }
    },
    {
      "cell_type": "markdown",
      "source": [
        "Show a scatter plot between both columns."
      ],
      "metadata": {
        "id": "VUg34hSEu-0H"
      }
    },
    {
      "cell_type": "markdown",
      "source": [
        "## Can you see any relationship between Order_Quantity and Profit?"
      ],
      "metadata": {
        "id": "50AYAXlDvBUx"
      }
    },
    {
      "cell_type": "markdown",
      "source": [
        "Show a scatter plot between both columns."
      ],
      "metadata": {
        "id": "7TLRhi15vE03"
      }
    },
    {
      "cell_type": "markdown",
      "source": [
        "## Can you see any relationship between Profit per Country?"
      ],
      "metadata": {
        "id": "tzup1uRvvINn"
      }
    },
    {
      "cell_type": "markdown",
      "source": [
        "Show a grouped box plot per country with the profit values."
      ],
      "metadata": {
        "id": "LOG379iEvJa_"
      }
    },
    {
      "cell_type": "markdown",
      "source": [
        "## Can you see any relationship between the Customer_Age per Country?"
      ],
      "metadata": {
        "id": "UogbVodjvOEY"
      }
    },
    {
      "cell_type": "markdown",
      "source": [
        "Show a grouped box plot per country with the customer age values."
      ],
      "metadata": {
        "id": "Kpfl48WcvPDS"
      }
    },
    {
      "cell_type": "markdown",
      "source": [
        "## Add and calculate a new Calculated_Date column"
      ],
      "metadata": {
        "id": "126rZ-p5vQ35"
      }
    },
    {
      "cell_type": "markdown",
      "source": [
        "Use Day, Month, Year to create a Date column (YYYY-MM-DD)."
      ],
      "metadata": {
        "id": "jXpIp6SovS2y"
      }
    },
    {
      "cell_type": "markdown",
      "source": [
        "## Parse your Calculated_Date column into a datetime object"
      ],
      "metadata": {
        "id": "v_I333UmvWJa"
      }
    },
    {
      "cell_type": "markdown",
      "source": [
        "## How did sales evolve through the years?"
      ],
      "metadata": {
        "id": "SJyq5JoFvXH9"
      }
    },
    {
      "cell_type": "markdown",
      "source": [
        "Show a line plot using Calculated_Date column as the x-axis and the count of sales as the y-axis."
      ],
      "metadata": {
        "id": "eiQG-UX-vbrK"
      }
    },
    {
      "cell_type": "markdown",
      "source": [
        "## Increase 50 U$S revenue to every sale"
      ],
      "metadata": {
        "id": "Bfl6QHN3vdoM"
      }
    },
    {
      "cell_type": "markdown",
      "source": [
        "## How many orders were made in Canada or France?"
      ],
      "metadata": {
        "id": "Q_aBKrCBviJi"
      }
    },
    {
      "cell_type": "markdown",
      "source": [
        "## How many Bike Racks orders were made from Canada?"
      ],
      "metadata": {
        "id": "jaozg-fnvl60"
      }
    },
    {
      "cell_type": "markdown",
      "source": [
        "## How many orders were made in each region (state) of France?"
      ],
      "metadata": {
        "id": "qUNvl8pJvoLK"
      }
    },
    {
      "cell_type": "markdown",
      "source": [
        "## How many sales were made per category?"
      ],
      "metadata": {
        "id": "nKjY54qlvqxe"
      }
    },
    {
      "cell_type": "markdown",
      "source": [
        "Show a pie plot with the results:"
      ],
      "metadata": {
        "id": "41z0R6Qavtoz"
      }
    },
    {
      "cell_type": "markdown",
      "source": [
        "## How many orders were made per accessory sub-categories?"
      ],
      "metadata": {
        "id": "qN0_MngbvwW5"
      }
    },
    {
      "cell_type": "markdown",
      "source": [
        "Show a bar plot with the results:"
      ],
      "metadata": {
        "id": "MZtizSKLvyQL"
      }
    },
    {
      "cell_type": "markdown",
      "source": [
        "## How many orders were made per bike sub-categories?"
      ],
      "metadata": {
        "id": "VtHy5nHYv0Pl"
      }
    },
    {
      "cell_type": "markdown",
      "source": [
        "Show a pie plot with the results:"
      ],
      "metadata": {
        "id": "SeSxu3sFv2rM"
      }
    },
    {
      "cell_type": "markdown",
      "source": [
        "## Which gender has the most amount of sales?"
      ],
      "metadata": {
        "id": "cnOEVe_5v7Pr"
      }
    },
    {
      "cell_type": "markdown",
      "source": [
        "## How many sales with more than 500 in Revenue were made by men?"
      ],
      "metadata": {
        "id": "h096cTa6v9wf"
      }
    },
    {
      "cell_type": "markdown",
      "source": [
        "## Get the top-5 sales with the highest revenue"
      ],
      "metadata": {
        "id": "RjWg35byv-gT"
      }
    },
    {
      "cell_type": "markdown",
      "source": [
        "## Get the sale with the highest revenue"
      ],
      "metadata": {
        "id": "Y5cNZ20ZwARV"
      }
    },
    {
      "cell_type": "markdown",
      "source": [
        "## What is the mean Order_Quantity of orders with more than 10K in revenue?"
      ],
      "metadata": {
        "id": "sYfcIxsSwCSY"
      }
    },
    {
      "cell_type": "markdown",
      "source": [
        "## What is the mean Order_Quantity of orders with less than 10K in revenue?"
      ],
      "metadata": {
        "id": "Cdv5w4G7wFIT"
      }
    },
    {
      "cell_type": "markdown",
      "source": [
        "## How many orders were made in May of 2016?"
      ],
      "metadata": {
        "id": "8sRsC_nCwFNX"
      }
    },
    {
      "cell_type": "markdown",
      "source": [
        "## How many orders were made between May and July of 2016?"
      ],
      "metadata": {
        "id": "syuCZaKbwK1B"
      }
    },
    {
      "cell_type": "markdown",
      "source": [
        "## Add 7.2% TAX on every sale Unit_Price within United States"
      ],
      "metadata": {
        "id": "wFIJV99SwMqq"
      }
    }
  ]
}